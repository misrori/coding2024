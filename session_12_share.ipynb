{
  "nbformat": 4,
  "nbformat_minor": 0,
  "metadata": {
    "colab": {
      "provenance": [],
      "authorship_tag": "ABX9TyNjwse+wIQHL0/S+HicntZl",
      "include_colab_link": true
    },
    "kernelspec": {
      "name": "python3",
      "display_name": "Python 3"
    },
    "language_info": {
      "name": "python"
    }
  },
  "cells": [
    {
      "cell_type": "markdown",
      "metadata": {
        "id": "view-in-github",
        "colab_type": "text"
      },
      "source": [
        "<a href=\"https://colab.research.google.com/github/misrori/coding2024/blob/main/session_12_share.ipynb\" target=\"_parent\"><img src=\"https://colab.research.google.com/assets/colab-badge.svg\" alt=\"Open In Colab\"/></a>"
      ]
    },
    {
      "cell_type": "markdown",
      "source": [
        "# AOC 2022 day 1\n",
        "# Part 1 solution\n",
        "# Part 2 solution"
      ],
      "metadata": {
        "id": "OAjiCNtJrK6O"
      }
    },
    {
      "cell_type": "code",
      "source": [
        "import requests\n",
        "import re\n",
        "\n",
        "data = requests.get(\"https://raw.githubusercontent.com/misrori/aoc/refs/heads/2022/day1.txt\").text.split('\\n')\n",
        "data.pop()\n",
        "\n",
        "data[0:15]\n"
      ],
      "metadata": {
        "colab": {
          "base_uri": "https://localhost:8080/"
        },
        "id": "TiFp8NjvrUy3",
        "outputId": "ce946442-a08f-4736-b212-56cc0049c946"
      },
      "execution_count": null,
      "outputs": [
        {
          "output_type": "execute_result",
          "data": {
            "text/plain": [
              "['15931',\n",
              " '8782',\n",
              " '16940',\n",
              " '14614',\n",
              " '',\n",
              " '4829',\n",
              " '12415',\n",
              " '13259',\n",
              " '11441',\n",
              " '8199',\n",
              " '',\n",
              " '2540',\n",
              " '2500',\n",
              " '6341',\n",
              " '2235']"
            ]
          },
          "metadata": {},
          "execution_count": 6
        }
      ]
    },
    {
      "cell_type": "code",
      "source": [],
      "metadata": {
        "id": "QUoWpqpltPti"
      },
      "execution_count": null,
      "outputs": []
    },
    {
      "cell_type": "code",
      "source": [],
      "metadata": {
        "colab": {
          "base_uri": "https://localhost:8080/"
        },
        "id": "nWaAAcAAu5rp",
        "outputId": "57695f88-2707-4610-e8d3-13201755a76e"
      },
      "execution_count": null,
      "outputs": [
        {
          "output_type": "execute_result",
          "data": {
            "text/plain": [
              "70116"
            ]
          },
          "metadata": {},
          "execution_count": 11
        }
      ]
    },
    {
      "cell_type": "markdown",
      "source": [
        "# Part two\n"
      ],
      "metadata": {
        "id": "0JU8KEwou-Fk"
      }
    },
    {
      "cell_type": "code",
      "source": [],
      "metadata": {
        "colab": {
          "base_uri": "https://localhost:8080/"
        },
        "id": "UiGKmS2ku8_Z",
        "outputId": "c7677782-2f04-48af-fa9e-0686de1bf107"
      },
      "execution_count": null,
      "outputs": [
        {
          "output_type": "execute_result",
          "data": {
            "text/plain": [
              "206582"
            ]
          },
          "metadata": {},
          "execution_count": 13
        }
      ]
    },
    {
      "cell_type": "markdown",
      "source": [
        "# AOC 2023 day 1\n",
        "# Part 1 solution 54951\n",
        "# Part 2 solution 55218"
      ],
      "metadata": {
        "id": "WXa31O3cqHl2"
      }
    },
    {
      "cell_type": "code",
      "execution_count": null,
      "metadata": {
        "id": "SD5_N0gfpEo2"
      },
      "outputs": [],
      "source": [
        "import requests\n",
        "import re\n",
        "\n",
        "data = requests.get(\"https://raw.githubusercontent.com/misrori/advent_of_code_2023/main/day1.txt\").text.split('\\n')\n",
        "data.pop()\n",
        "\n",
        "data[0:5]"
      ]
    }
  ]
}