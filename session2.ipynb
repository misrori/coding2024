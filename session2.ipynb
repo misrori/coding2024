{
  "nbformat": 4,
  "nbformat_minor": 0,
  "metadata": {
    "colab": {
      "provenance": [],
      "authorship_tag": "ABX9TyN2Iz9O2XGz7FSu3BnFf4uQ",
      "include_colab_link": true
    },
    "kernelspec": {
      "name": "python3",
      "display_name": "Python 3"
    },
    "language_info": {
      "name": "python"
    }
  },
  "cells": [
    {
      "cell_type": "markdown",
      "metadata": {
        "id": "view-in-github",
        "colab_type": "text"
      },
      "source": [
        "<a href=\"https://colab.research.google.com/github/misrori/coding2024/blob/main/session2.ipynb\" target=\"_parent\"><img src=\"https://colab.research.google.com/assets/colab-badge.svg\" alt=\"Open In Colab\"/></a>"
      ]
    },
    {
      "cell_type": "markdown",
      "source": [
        "---\n",
        "\n",
        "### **Python Basics: Loops, If Statements, and Functions**\n",
        "\n",
        "---\n",
        "\n",
        "#### **1. Introduction to Loops**\n",
        "\n",
        "**Loops** allow us to execute a block of code multiple times.\n",
        "\n",
        "- **For Loop**: Iterate over a sequence (like a list, tuple, or string).\n",
        "\n",
        "```python\n",
        "# Example\n",
        "fruits = [\"apple\", \"banana\", \"cherry\"]\n",
        "for fruit in fruits:\n",
        "    print(fruit)\n",
        "```\n"
      ],
      "metadata": {
        "id": "PHl36drtuV1X"
      }
    },
    {
      "cell_type": "code",
      "source": [
        "fruits = [\"apple\", \"banana\", \"cherry\"]\n",
        "for fruit in fruits:\n",
        "    print(fruit)"
      ],
      "metadata": {
        "colab": {
          "base_uri": "https://localhost:8080/"
        },
        "id": "3k8PhlHvvfmR",
        "outputId": "665de2ce-cbba-4a9b-96bc-66d0261e5667"
      },
      "execution_count": null,
      "outputs": [
        {
          "output_type": "stream",
          "name": "stdout",
          "text": [
            "apple\n",
            "banana\n",
            "cherry\n"
          ]
        }
      ]
    },
    {
      "cell_type": "markdown",
      "source": [
        "\n",
        "- **While Loop**: Repeat as long as a condition is true.\n",
        "\n",
        "```python\n",
        "# Example\n",
        "i = 0\n",
        "while i < 5:\n",
        "    print(i)\n",
        "    i += 1\n",
        "```\n",
        "\n",
        "\n"
      ],
      "metadata": {
        "id": "kjOOI71tuu9M"
      }
    },
    {
      "cell_type": "code",
      "source": [
        "i = 0\n",
        "while i < 5:\n",
        "    print(i)\n",
        "    i += 1"
      ],
      "metadata": {
        "colab": {
          "base_uri": "https://localhost:8080/"
        },
        "id": "iVU9cwRLvjE0",
        "outputId": "7818e4c7-e9e4-4746-9e6f-14de49906631"
      },
      "execution_count": null,
      "outputs": [
        {
          "output_type": "stream",
          "name": "stdout",
          "text": [
            "0\n",
            "1\n",
            "2\n",
            "3\n",
            "4\n"
          ]
        }
      ]
    },
    {
      "cell_type": "markdown",
      "source": [
        "\n",
        "#### **2. If Statements**\n",
        "\n",
        "**If Statements** let us make decisions in our code. We can execute code only if a condition is true.\n",
        "\n",
        "```python\n",
        "# Example\n",
        "age = 20\n",
        "if age >= 18:\n",
        "    print(\"You are an adult.\")\n",
        "else:\n",
        "    print(\"You are not an adult.\")\n",
        "```\n",
        "\n",
        "You can also add multiple conditions using `elif`:\n",
        "\n",
        "```python\n",
        "# Example\n",
        "score = 85\n",
        "if score >= 90:\n",
        "    print(\"Grade: A\")\n",
        "elif score >= 80:\n",
        "    print(\"Grade: B\")\n",
        "else:\n",
        "    print(\"Grade: C\")\n",
        "```\n",
        "\n"
      ],
      "metadata": {
        "id": "t1LXCHq9u0Yi"
      }
    },
    {
      "cell_type": "code",
      "source": [
        "age = 20\n",
        "age<10"
      ],
      "metadata": {
        "colab": {
          "base_uri": "https://localhost:8080/"
        },
        "id": "UMS5qORXv11p",
        "outputId": "82cffc30-c377-4890-fc35-d1bd1c157f1e"
      },
      "execution_count": null,
      "outputs": [
        {
          "output_type": "execute_result",
          "data": {
            "text/plain": [
              "False"
            ]
          },
          "metadata": {},
          "execution_count": 3
        }
      ]
    },
    {
      "cell_type": "code",
      "source": [
        "age = 20\n",
        "if age >= 18:\n",
        "    print(\"You are an adult.\")\n",
        "else:\n",
        "    print(\"You are not an adult.\")"
      ],
      "metadata": {
        "colab": {
          "base_uri": "https://localhost:8080/"
        },
        "id": "XRp4xpYjvllX",
        "outputId": "abf7c168-0ffd-4415-b250-ee6bc7c83823"
      },
      "execution_count": null,
      "outputs": [
        {
          "output_type": "stream",
          "name": "stdout",
          "text": [
            "You are an adult.\n"
          ]
        }
      ]
    },
    {
      "cell_type": "code",
      "source": [
        "score = 85\n",
        "if score >= 90:\n",
        "    print(\"Grade: A\")\n",
        "elif score >= 80:\n",
        "    print(\"Grade: B\")\n",
        "else:\n",
        "    print(\"Grade: C\")"
      ],
      "metadata": {
        "colab": {
          "base_uri": "https://localhost:8080/"
        },
        "id": "0XWthZsLvnKP",
        "outputId": "523502a9-f1be-4492-a7d1-c88345e87ef6"
      },
      "execution_count": null,
      "outputs": [
        {
          "output_type": "stream",
          "name": "stdout",
          "text": [
            "Grade: B\n"
          ]
        }
      ]
    },
    {
      "cell_type": "markdown",
      "source": [
        "\n",
        "\n",
        "#### **3. Functions**\n",
        "\n",
        "**Functions** are reusable blocks of code that you can call to perform a specific task.\n",
        "\n",
        "- **Defining a function**:\n",
        "\n",
        "```python\n",
        "# Example\n",
        "def greet(name):\n",
        "    print(f\"Hello, {name}!\")\n",
        "```\n",
        "\n",
        "- **Calling a function**:\n",
        "\n",
        "```python\n",
        "greet(\"Alice\")  # Output: Hello, Alice!\n",
        "```\n",
        "\n",
        "- **Returning values from functions**:\n",
        "\n",
        "```python\n",
        "def add(a, b):\n",
        "    return a + b\n",
        "\n",
        "result = add(3, 5)  # result is 8\n",
        "```\n",
        "\n"
      ],
      "metadata": {
        "id": "gQMSs6R8u1N9"
      }
    },
    {
      "cell_type": "code",
      "source": [
        "def greet(name):\n",
        "    print(f\"Hello, {name}!\")"
      ],
      "metadata": {
        "id": "MpQRjX4mvpRB"
      },
      "execution_count": null,
      "outputs": []
    },
    {
      "cell_type": "code",
      "source": [
        "greet(\"Alice\")"
      ],
      "metadata": {
        "colab": {
          "base_uri": "https://localhost:8080/"
        },
        "id": "JOaWI9EdvrvA",
        "outputId": "eae8fbf5-39ad-4771-cd46-eaea8c39b24c"
      },
      "execution_count": null,
      "outputs": [
        {
          "output_type": "stream",
          "name": "stdout",
          "text": [
            "Hello, Alice!\n"
          ]
        }
      ]
    },
    {
      "cell_type": "code",
      "source": [
        "def add(a, b):\n",
        "    return a + b\n",
        "\n",
        "result = add(3, 5)"
      ],
      "metadata": {
        "id": "XircHqyNvtNX"
      },
      "execution_count": null,
      "outputs": []
    },
    {
      "cell_type": "markdown",
      "source": [
        "\n",
        "### **Practice Tasks**\n",
        "\n",
        "#### **Task 1: Loops**\n",
        "1. Write a program that prints the numbers from 1 to 10 using a `for` loop.\n",
        "2. Use a `while` loop to count down from 10 to 1.\n",
        "\n"
      ],
      "metadata": {
        "id": "gzZ0tt9Wu13I"
      }
    },
    {
      "cell_type": "code",
      "source": [
        "for i in range(1,11):\n",
        "    print(i)"
      ],
      "metadata": {
        "colab": {
          "base_uri": "https://localhost:8080/"
        },
        "id": "uO22Dt8APJV_",
        "outputId": "b693663a-8985-47ec-b129-83a89e40a643"
      },
      "execution_count": null,
      "outputs": [
        {
          "output_type": "stream",
          "name": "stdout",
          "text": [
            "1\n",
            "2\n",
            "3\n",
            "4\n",
            "5\n",
            "6\n",
            "7\n",
            "8\n",
            "9\n",
            "10\n"
          ]
        }
      ]
    },
    {
      "cell_type": "code",
      "source": [
        "while i>0:\n",
        "    print(i)\n",
        "    i-=1"
      ],
      "metadata": {
        "colab": {
          "base_uri": "https://localhost:8080/"
        },
        "id": "IGanI4JEPSdd",
        "outputId": "95d46dc3-4a1a-43e9-9dc8-b18b253ccb17"
      },
      "execution_count": null,
      "outputs": [
        {
          "output_type": "stream",
          "name": "stdout",
          "text": [
            "10\n",
            "9\n",
            "8\n",
            "7\n",
            "6\n",
            "5\n",
            "4\n",
            "3\n",
            "2\n",
            "1\n"
          ]
        }
      ]
    },
    {
      "cell_type": "markdown",
      "source": [
        "#### **Task 2: If Statements**\n",
        "1. Write a program that takes an integer input from the user and prints if it's **even** or **odd**.\n",
        "2. Write a program that takes a number from the user and prints whether it’s **positive**, **negative**, or **zero**.\n",
        "\n"
      ],
      "metadata": {
        "id": "Gi9KSWsiu1vN"
      }
    },
    {
      "cell_type": "code",
      "source": [
        "my_number = int(input(\"Enter a number: \"))\n",
        "if my_number%2==0:\n",
        "    print(\"Even\")\n",
        "else:\n",
        "    print(\"Odd\")"
      ],
      "metadata": {
        "id": "h6vGDsdpPcJL"
      },
      "execution_count": null,
      "outputs": []
    },
    {
      "cell_type": "code",
      "source": [
        "my_number = int(input(\"Enter a number: \"))\n",
        "if my_number>0:\n",
        "    print(\"Positive\")\n",
        "elif my_number<0:\n",
        "    print(\"Negative\")\n",
        "else:\n",
        "    print(\"Zero\")"
      ],
      "metadata": {
        "id": "1-0fGI-aPski"
      },
      "execution_count": null,
      "outputs": []
    },
    {
      "cell_type": "markdown",
      "source": [
        "#### **Task 3: Functions**\n",
        "\n",
        "1. Write a function that takes two numbers and returns the larger of the two.\n",
        "2. Write a function `is_even(number)` that returns `True` if a number is even and `False` if it's odd.\n",
        "\n",
        "\n"
      ],
      "metadata": {
        "id": "iV-MD5Dzu1kw"
      }
    },
    {
      "cell_type": "code",
      "source": [
        "def larger(a,b):\n",
        "    if a>b:\n",
        "        return(a)\n",
        "    else:\n",
        "        return(b)"
      ],
      "metadata": {
        "id": "AdJlufDfPwG7"
      },
      "execution_count": null,
      "outputs": []
    },
    {
      "cell_type": "code",
      "source": [
        "larger(3,5)"
      ],
      "metadata": {
        "colab": {
          "base_uri": "https://localhost:8080/"
        },
        "id": "jYXxmaH9P4FM",
        "outputId": "78c30f03-6e73-4f68-d4f1-c5986f54e733"
      },
      "execution_count": null,
      "outputs": [
        {
          "output_type": "execute_result",
          "data": {
            "text/plain": [
              "5"
            ]
          },
          "metadata": {},
          "execution_count": 14
        }
      ]
    },
    {
      "cell_type": "code",
      "source": [
        "def is_even(number):\n",
        "    if number%2==0:\n",
        "        return(True)\n",
        "    else:\n",
        "        return(False)"
      ],
      "metadata": {
        "id": "QUQzLoeEPzsU"
      },
      "execution_count": null,
      "outputs": []
    },
    {
      "cell_type": "code",
      "source": [
        "is_even(5)"
      ],
      "metadata": {
        "colab": {
          "base_uri": "https://localhost:8080/"
        },
        "id": "H4ktyog4P58N",
        "outputId": "6b8418b0-90be-4a89-a478-d002b4c9a7b7"
      },
      "execution_count": null,
      "outputs": [
        {
          "output_type": "execute_result",
          "data": {
            "text/plain": [
              "False"
            ]
          },
          "metadata": {},
          "execution_count": 18
        }
      ]
    },
    {
      "cell_type": "markdown",
      "source": [
        "#### **Bonus Task**\n",
        "Combine everything: Write a program that:\n",
        "- Takes a list of numbers and return the sum of them, use a for loop (do not use the built in functions).\n",
        "- Filters out the even numbers using a loop and an `if` statement and return with the list without even numbers.\n",
        "\n",
        "\n"
      ],
      "metadata": {
        "id": "NLDBs09avLrO"
      }
    },
    {
      "cell_type": "code",
      "source": [
        "def sum_list(my_list):\n",
        "    sum=0\n",
        "    for i in my_list:\n",
        "        sum+=i\n",
        "    return(sum)"
      ],
      "metadata": {
        "id": "RbFnHqNaQBR9"
      },
      "execution_count": null,
      "outputs": []
    },
    {
      "cell_type": "code",
      "source": [
        "sum_list([1,2,3,4,5])\n"
      ],
      "metadata": {
        "colab": {
          "base_uri": "https://localhost:8080/"
        },
        "id": "ROMO08T0QVCq",
        "outputId": "c495bf99-5873-404d-a926-c3bd044b6e08"
      },
      "execution_count": null,
      "outputs": [
        {
          "output_type": "execute_result",
          "data": {
            "text/plain": [
              "15"
            ]
          },
          "metadata": {},
          "execution_count": 21
        }
      ]
    },
    {
      "cell_type": "markdown",
      "source": [
        "#### **Let's Play**\n",
        "Go to:\n",
        "\n",
        "https://reeborg.ca/reeborg.html?lang=en&mode=python&menu=worlds%2Fmenus%2Freeborg_intro_en.json&name=Hurdle%201&url=worlds%2Ftutorial_en%2Fhurdle1.json\n",
        "\n",
        "Solve the folowing chalanges:\n",
        "- Hurdle 1-4\n",
        "- Center 1-2\n",
        "- Maze\n",
        "- Harvest 1-3\n"
      ],
      "metadata": {
        "id": "DO4S57imw24j"
      }
    },
    {
      "cell_type": "markdown",
      "source": [
        "#### **Hurdle 1**\n",
        "\n",
        "\n",
        "```python\n",
        "def turn_right():\n",
        "    for i in range(3):\n",
        "        turn_left()\n",
        "        \n",
        "for i in range(6):\n",
        "    move()\n",
        "    turn_left()\n",
        "    move()\n",
        "    turn_right()\n",
        "    move()\n",
        "    turn_right()\n",
        "    move()\n",
        "    turn_left()\n",
        "```\n"
      ],
      "metadata": {
        "id": "cTdqMo3kR3XT"
      }
    },
    {
      "cell_type": "markdown",
      "source": [
        "#### **Hurdle 2**\n",
        "\n",
        "\n",
        "```python\n",
        "def turn_right():\n",
        "    for i in range(3):\n",
        "        turn_left()\n",
        "        \n",
        "def jump():\n",
        "    move()\n",
        "    turn_left()\n",
        "    move()\n",
        "    turn_right()\n",
        "    move()\n",
        "    turn_right()\n",
        "    move()\n",
        "    turn_left()\n",
        "        \n",
        "while not at_goal():\n",
        "    jump()\n",
        "```\n"
      ],
      "metadata": {
        "id": "-oIDpwlmSJMY"
      }
    },
    {
      "cell_type": "markdown",
      "source": [
        "#### **Hurdle 3**\n",
        "\n",
        "\n",
        "```python\n",
        "def turn_right():\n",
        "    for i in range(3):\n",
        "        turn_left()\n",
        "        \n",
        "def jump():\n",
        "    turn_left()\n",
        "    move()\n",
        "    turn_right()\n",
        "    move()\n",
        "    turn_right()\n",
        "    move()\n",
        "    turn_left()\n",
        "        \n",
        "while not at_goal():\n",
        "    if front_is_clear():\n",
        "        move()\n",
        "    else:\n",
        "        jump()\n",
        "```\n"
      ],
      "metadata": {
        "id": "BfHwqhdISws1"
      }
    },
    {
      "cell_type": "markdown",
      "source": [
        "\n",
        "#### **Hurdle 4**\n",
        "\n",
        "\n",
        "```python\n",
        "def turn_right():\n",
        "    for i in range(3):\n",
        "        turn_left()\n",
        "        \n",
        "def jump():\n",
        "    turn_left()\n",
        "    while wall_on_right():\n",
        "        move()\n",
        "    turn_right()\n",
        "    move()\n",
        "    turn_right()\n",
        "    while front_is_clear():\n",
        "        move()\n",
        "    turn_left()\n",
        "        \n",
        "while not at_goal():\n",
        "    if front_is_clear():\n",
        "        move()\n",
        "    else:\n",
        "        jump()\n",
        "```\n",
        "\n",
        "\n",
        "\n",
        "\n",
        "    \n",
        "\n",
        "\n",
        "        \n",
        "\n",
        "\n",
        "\n",
        "\n"
      ],
      "metadata": {
        "id": "Lfg9U84xUV3L"
      }
    },
    {
      "cell_type": "markdown",
      "source": [
        "\n",
        "#### **Center 1**\n",
        "\n",
        "\n",
        "```python\n",
        "steps = 0\n",
        "while front_is_clear():\n",
        "    move()\n",
        "    steps +=1\n",
        "\n",
        "for _ in range(2):\n",
        "    turn_left()\n",
        "\n",
        "steps_to_center = int(steps / 2)\n",
        "\n",
        "for _ in range(steps_to_center):\n",
        "    move()\n",
        "    \n",
        "put()\n",
        "```\n",
        "\n"
      ],
      "metadata": {
        "id": "b_e9O6IKlrkK"
      }
    },
    {
      "cell_type": "markdown",
      "source": [
        "\n",
        "#### **Center 2**\n",
        "\n",
        "\n",
        "```python\n",
        "x = 0\n",
        "y = 0\n",
        "while front_is_clear():\n",
        "    move()\n",
        "    x +=1\n",
        "\n",
        "turn_left()\n",
        "\n",
        "while front_is_clear():\n",
        "    move()\n",
        "    y +=1\n",
        "\n",
        "\n",
        "x_center = int(x / 2)\n",
        "y_center = int(y / 2)\n",
        "\n",
        "turn_left()\n",
        "\n",
        "for _ in range(x_center):\n",
        "    move()\n",
        "    \n",
        "turn_left()\n",
        "\n",
        "for _ in range(y_center):\n",
        "    move()\n",
        "put()\n",
        "```\n",
        "\n"
      ],
      "metadata": {
        "id": "3I_zl4qPmpcq"
      }
    },
    {
      "cell_type": "markdown",
      "source": [
        "\n",
        "#### **Maze**\n",
        "\n",
        "\n",
        "```python\n",
        "def turn_right():\n",
        "    for i in range(3):\n",
        "        turn_left()\n",
        "        \n",
        "while not at_goal():\n",
        "    if right_is_clear():\n",
        "        turn_right()\n",
        "    if front_is_clear():\n",
        "        move()\n",
        "    else:\n",
        "        turn_left()\n",
        "```\n",
        "\n"
      ],
      "metadata": {
        "id": "Du7KPowWmzfM"
      }
    },
    {
      "cell_type": "markdown",
      "source": [
        "\n",
        "#### **Harvest 1**\n",
        "\n",
        "\n",
        "```python\n",
        "def turn_right():\n",
        "    for i in range(3):\n",
        "        turn_left()\n",
        "\n",
        "def take_one_row():\n",
        "    take()\n",
        "    for _ in range(5):\n",
        "        move()\n",
        "        take()\n",
        "\n",
        "move()\n",
        "move()\n",
        "turn_left()\n",
        "move()\n",
        "move()\n",
        "turn_right()\n",
        "\n",
        "for i in range(6):\n",
        "    take_one_row()\n",
        "    if (i%2==0):\n",
        "        turn_left()\n",
        "        move()\n",
        "        turn_left()\n",
        "    else:\n",
        "        turn_right()\n",
        "        move()\n",
        "        turn_right()\n",
        "        \n",
        "```\n",
        "\n",
        "\n",
        "\n",
        "\n"
      ],
      "metadata": {
        "id": "5cR4l2cnrez_"
      }
    }
  ]
}