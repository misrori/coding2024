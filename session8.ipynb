{
  "nbformat": 4,
  "nbformat_minor": 0,
  "metadata": {
    "colab": {
      "provenance": [],
      "authorship_tag": "ABX9TyNeLB/2M6or58bUhyZ/lAWl",
      "include_colab_link": true
    },
    "kernelspec": {
      "name": "python3",
      "display_name": "Python 3"
    },
    "language_info": {
      "name": "python"
    }
  },
  "cells": [
    {
      "cell_type": "markdown",
      "metadata": {
        "id": "view-in-github",
        "colab_type": "text"
      },
      "source": [
        "<a href=\"https://colab.research.google.com/github/misrori/coding2024/blob/main/session8.ipynb\" target=\"_parent\"><img src=\"https://colab.research.google.com/assets/colab-badge.svg\" alt=\"Open In Colab\"/></a>"
      ]
    },
    {
      "cell_type": "markdown",
      "source": [
        "#OOP\n"
      ],
      "metadata": {
        "id": "1Xr6hjj5YSd0"
      }
    },
    {
      "cell_type": "code",
      "source": [
        "class BankAccount:\n",
        "    def __init__(self, account_holder, initial_balance=0):\n",
        "        self.account_holder = account_holder\n",
        "        self.balance = initial_balance\n",
        "\n",
        "    def deposit(self, amount):\n",
        "        if amount > 0:\n",
        "            self.balance += amount\n",
        "            return f\"${amount} deposited. New balance: ${self.balance}\"\n",
        "        else:\n",
        "            return \"Invalid deposit amount.\"\n",
        "\n",
        "    def withdraw(self, amount):\n",
        "        if amount > 0 and amount <= self.balance:\n",
        "            self.balance -= amount\n",
        "            return f\"${amount} withdrawn. New balance: ${self.balance}\"\n",
        "        elif amount > self.balance:\n",
        "            return f\"Insufficient funds. Your balance is ${self.balance} you can not withdraw ${amount}!\"\n",
        "        else:\n",
        "            return \"Invalid withdrawal amount.\"\n",
        "\n",
        "    def display_balance(self):\n",
        "        return f\"Account balance for {self.account_holder}: ${self.balance}\"\n",
        "\n",
        "# Example usage:\n",
        "account1 = BankAccount(\"Alice\", 1000)\n",
        "print(account1.display_balance())\n",
        "print(account1.deposit(500))\n",
        "print(account1.withdraw(2500))\n",
        "print(account1.withdraw(200))\n"
      ],
      "metadata": {
        "colab": {
          "base_uri": "https://localhost:8080/"
        },
        "id": "o00HWx2yYRza",
        "outputId": "f93f5c86-7dc1-4943-f986-b41aa09ac12d"
      },
      "execution_count": null,
      "outputs": [
        {
          "output_type": "stream",
          "name": "stdout",
          "text": [
            "Account balance for Alice: $1000\n",
            "$500 deposited. New balance: $1500\n",
            "Insufficient funds. Your balance is $1500 you can not withdraw 2500\n",
            "$200 withdrawn. New balance: $1300\n"
          ]
        }
      ]
    },
    {
      "cell_type": "markdown",
      "source": [
        "# Task\n",
        "Create ten random Bankaccount into a list name(5 random character) and random amount between 1000, and 10000\n",
        "\n",
        "Than find the name of the person who has the most money\n"
      ],
      "metadata": {
        "id": "XO5fV1XOizba"
      }
    },
    {
      "cell_type": "code",
      "source": [
        "import random\n",
        "import string\n",
        "\n",
        "# Generate random bank accounts\n",
        "def generate_random_name():\n",
        "    return ''.join(random.choice(string.ascii_uppercase) for _ in range(5))\n",
        "\n",
        "\n",
        "bank_accounts = []\n",
        "\n",
        "for _ in range(10):\n",
        "    name = generate_random_name()\n",
        "    balance = random.randint(1000, 10000)\n",
        "    account = BankAccount(name, balance)\n",
        "    bank_accounts.append(account)\n",
        "\n",
        "# Find the name of the person with the most money\n",
        "max_balance = 0\n",
        "richest_person = None\n",
        "\n",
        "for account in bank_accounts:\n",
        "    if account.balance > max_balance:\n",
        "        max_balance = account.balance\n",
        "        richest_person = account.name\n",
        "\n",
        "print(\"Bank Accounts:\")\n",
        "for account in bank_accounts:\n",
        "    print(f\"Name: {account.name}, Balance: {account.balance}\")\n",
        "\n",
        "print(f\"The person with the most money is: {richest_person} with a balance of {max_balance}.\")\n"
      ],
      "metadata": {
        "id": "cjYxlHlejwL8"
      },
      "execution_count": null,
      "outputs": []
    },
    {
      "cell_type": "code",
      "source": [
        "class ToDoItem:\n",
        "    def __init__(self, description):\n",
        "        self.description = description\n",
        "        self.status = \"in progress\"\n",
        "        self.working_hours = 0\n",
        "\n",
        "    def mark_as_complete(self):\n",
        "        self.status = \"completed\"\n",
        "\n",
        "    def mark_as_in_progress(self):\n",
        "        self.status = \"in progress\"\n",
        "\n",
        "    def get_status(self):\n",
        "        return self.status\n",
        "\n",
        "    def add_working_hours(self, hours):\n",
        "        if hours > 0:\n",
        "            self.working_hours += hours\n",
        "            return f\"Added {hours} hours to '{self.description}'.\"\n",
        "        else:\n",
        "            return \"Invalid hours entry.\"\n",
        "\n",
        "    def report_working_hours(self):\n",
        "        return f\"Total working hours on '{self.description}': {self.working_hours} hours.\"\n",
        "\n",
        "# Example usage:\n",
        "todo1 = ToDoItem(\"Finish homework\")\n",
        "print(f\"Task: {todo1.description}, Status: {todo1.get_status()}\")\n",
        "print(todo1.add_working_hours(2))\n",
        "print(todo1.report_working_hours())\n",
        "todo1.mark_as_complete()\n",
        "print(f\"Task: {todo1.description}, Status: {todo1.get_status()}\")\n"
      ],
      "metadata": {
        "id": "Zj_Jivx-bH9y"
      },
      "execution_count": null,
      "outputs": []
    },
    {
      "cell_type": "code",
      "source": [
        "class Car:\n",
        "    def __init__(self, make, model, year):\n",
        "        self.make = make\n",
        "        self.model = model\n",
        "        self.year = year\n",
        "        self.engine_started = False\n",
        "        self.mileage = 0\n",
        "\n",
        "    def start_engine(self):\n",
        "        if not self.engine_started:\n",
        "            self.engine_started = True\n",
        "            return \"Engine started.\"\n",
        "        else:\n",
        "            return \"Engine is already running.\"\n",
        "\n",
        "    def stop_engine(self):\n",
        "        if self.engine_started:\n",
        "            self.engine_started = False\n",
        "            return \"Engine stopped.\"\n",
        "        else:\n",
        "            return \"Engine is already off.\"\n",
        "\n",
        "    def drive(self, distance):\n",
        "        if self.engine_started:\n",
        "            if distance > 0:\n",
        "                self.mileage += distance\n",
        "                return f\"Car driven for {distance} miles.\"\n",
        "            else:\n",
        "                return \"Invalid distance for driving.\"\n",
        "        else:\n",
        "            return \"Engine is not running. Start the engine first.\"\n",
        "\n",
        "    def display_info(self):\n",
        "        return f\"Car: {self.year} {self.make} {self.model}, Engine: {'Running' if self.engine_started else 'Off'}, Mileage: {self.mileage} miles\"\n",
        "\n",
        "# Example usage:\n",
        "my_car = Car(\"Toyota\", \"Camry\", 2022)\n",
        "print(my_car.display_info())\n",
        "print(my_car.start_engine())\n",
        "print(my_car.drive(50))\n",
        "print(my_car.display_info())\n",
        "print(my_car.stop_engine())\n",
        "print(my_car.drive(30))\n",
        "print(my_car.start_engine())\n",
        "print(my_car.drive(30))\n",
        "print(my_car.display_info())\n"
      ],
      "metadata": {
        "colab": {
          "base_uri": "https://localhost:8080/"
        },
        "id": "dZ2dEHlKbHt_",
        "outputId": "cb455dee-a0bc-4f1f-d38a-0d6a294775ff"
      },
      "execution_count": null,
      "outputs": [
        {
          "output_type": "stream",
          "name": "stdout",
          "text": [
            "Car: 2022 Toyota Camry, Engine: Off, Mileage: 0 miles\n",
            "Engine started.\n",
            "Car driven for 50 miles.\n",
            "Car: 2022 Toyota Camry, Engine: Running, Mileage: 50 miles\n",
            "Engine stopped.\n",
            "Engine is not running. Start the engine first.\n",
            "Car: 2022 Toyota Camry, Engine: Off, Mileage: 50 miles\n"
          ]
        }
      ]
    },
    {
      "cell_type": "code",
      "source": [],
      "metadata": {
        "id": "v5zGyYrbYRtD"
      },
      "execution_count": null,
      "outputs": []
    },
    {
      "cell_type": "code",
      "source": [],
      "metadata": {
        "id": "y_GrHKDeFTAR"
      },
      "execution_count": null,
      "outputs": []
    }
  ]
}